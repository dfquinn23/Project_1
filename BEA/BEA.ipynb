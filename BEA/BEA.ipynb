{
 "cells": [
  {
   "cell_type": "code",
   "execution_count": 1,
   "metadata": {},
   "outputs": [],
   "source": [
    "import os\n",
    "from dotenv import load_dotenv\n",
    "# import beaapi\n",
    "import json\n",
    "import pandas as pd\n",
    "import requests"
   ]
  },
  {
   "cell_type": "code",
   "execution_count": 2,
   "metadata": {},
   "outputs": [],
   "source": [
    "load_dotenv()\n",
    "beakey = os.environ.get('API_KEY_BEA')"
   ]
  },
  {
   "cell_type": "code",
   "execution_count": 3,
   "metadata": {},
   "outputs": [],
   "source": [
    "method = \"GetData\"\n",
    "data_set = \"Regional\"\n",
    "params = 'TableName=SAINC1&GeoFips=STATE&LineCode=3&Year=2022'"
   ]
  },
  {
   "cell_type": "code",
   "execution_count": 4,
   "metadata": {},
   "outputs": [],
   "source": [
    "data = requests.get(\n",
    "        f'https://apps.bea.gov/api/data?&UserID={beakey}&method={method}&datasetname={data_set}&{params}&ResultFormat=JSON'\n",
    "    ).json()"
   ]
  },
  {
   "cell_type": "code",
   "execution_count": 7,
   "metadata": {},
   "outputs": [
    {
     "data": {
      "text/html": [
       "<div>\n",
       "<style scoped>\n",
       "    .dataframe tbody tr th:only-of-type {\n",
       "        vertical-align: middle;\n",
       "    }\n",
       "\n",
       "    .dataframe tbody tr th {\n",
       "        vertical-align: top;\n",
       "    }\n",
       "\n",
       "    .dataframe thead th {\n",
       "        text-align: right;\n",
       "    }\n",
       "</style>\n",
       "<table border=\"1\" class=\"dataframe\">\n",
       "  <thead>\n",
       "    <tr style=\"text-align: right;\">\n",
       "      <th></th>\n",
       "      <th>Code</th>\n",
       "      <th>GeoFips</th>\n",
       "      <th>TimePeriod</th>\n",
       "      <th>CL_UNIT</th>\n",
       "      <th>UNIT_MULT</th>\n",
       "      <th>DataValue</th>\n",
       "      <th>NoteRef</th>\n",
       "    </tr>\n",
       "    <tr>\n",
       "      <th>GeoName</th>\n",
       "      <th></th>\n",
       "      <th></th>\n",
       "      <th></th>\n",
       "      <th></th>\n",
       "      <th></th>\n",
       "      <th></th>\n",
       "      <th></th>\n",
       "    </tr>\n",
       "  </thead>\n",
       "  <tbody>\n",
       "    <tr>\n",
       "      <th>District of Columbia</th>\n",
       "      <td>SAINC1-3</td>\n",
       "      <td>11000</td>\n",
       "      <td>2022</td>\n",
       "      <td>Dollars</td>\n",
       "      <td>0</td>\n",
       "      <td>96092</td>\n",
       "      <td>2</td>\n",
       "    </tr>\n",
       "    <tr>\n",
       "      <th>Massachusetts</th>\n",
       "      <td>SAINC1-3</td>\n",
       "      <td>25000</td>\n",
       "      <td>2022</td>\n",
       "      <td>Dollars</td>\n",
       "      <td>0</td>\n",
       "      <td>84551</td>\n",
       "      <td>2</td>\n",
       "    </tr>\n",
       "    <tr>\n",
       "      <th>Connecticut</th>\n",
       "      <td>SAINC1-3</td>\n",
       "      <td>09000</td>\n",
       "      <td>2022</td>\n",
       "      <td>Dollars</td>\n",
       "      <td>0</td>\n",
       "      <td>83340</td>\n",
       "      <td>2</td>\n",
       "    </tr>\n",
       "    <tr>\n",
       "      <th>New England</th>\n",
       "      <td>SAINC1-3</td>\n",
       "      <td>91000</td>\n",
       "      <td>2022</td>\n",
       "      <td>Dollars</td>\n",
       "      <td>0</td>\n",
       "      <td>78603</td>\n",
       "      <td>2</td>\n",
       "    </tr>\n",
       "    <tr>\n",
       "      <th>New Jersey</th>\n",
       "      <td>SAINC1-3</td>\n",
       "      <td>34000</td>\n",
       "      <td>2022</td>\n",
       "      <td>Dollars</td>\n",
       "      <td>0</td>\n",
       "      <td>77206</td>\n",
       "      <td>2</td>\n",
       "    </tr>\n",
       "  </tbody>\n",
       "</table>\n",
       "</div>"
      ],
      "text/plain": [
       "                          Code GeoFips TimePeriod  CL_UNIT UNIT_MULT  \\\n",
       "GeoName                                                                \n",
       "District of Columbia  SAINC1-3   11000       2022  Dollars         0   \n",
       "Massachusetts         SAINC1-3   25000       2022  Dollars         0   \n",
       "Connecticut           SAINC1-3   09000       2022  Dollars         0   \n",
       "New England           SAINC1-3   91000       2022  Dollars         0   \n",
       "New Jersey            SAINC1-3   34000       2022  Dollars         0   \n",
       "\n",
       "                     DataValue NoteRef  \n",
       "GeoName                                 \n",
       "District of Columbia     96092       2  \n",
       "Massachusetts            84551       2  \n",
       "Connecticut              83340       2  \n",
       "New England              78603       2  \n",
       "New Jersey               77206       2  "
      ]
     },
     "execution_count": 7,
     "metadata": {},
     "output_type": "execute_result"
    }
   ],
   "source": [
    "df_data = pd.DataFrame(data[\"BEAAPI\"]['Results']['Data'])\n",
    "df_data = df_data.set_index('GeoName')\n",
    "df_data = df_data.sort_values('DataValue', ascending=False)\n",
    "df_data.head()"
   ]
  }
 ],
 "metadata": {
  "kernelspec": {
   "display_name": "dev_con",
   "language": "python",
   "name": "python3"
  },
  "language_info": {
   "codemirror_mode": {
    "name": "ipython",
    "version": 3
   },
   "file_extension": ".py",
   "mimetype": "text/x-python",
   "name": "python",
   "nbconvert_exporter": "python",
   "pygments_lexer": "ipython3",
   "version": "3.10.11"
  }
 },
 "nbformat": 4,
 "nbformat_minor": 2
}
