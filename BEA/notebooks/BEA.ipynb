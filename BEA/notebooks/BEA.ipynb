{
 "cells": [
  {
   "cell_type": "code",
   "execution_count": null,
   "metadata": {},
   "outputs": [],
   "source": [
    "import os\n",
    "from dotenv import load_dotenv\n",
    "import json\n",
    "import pandas as pd\n",
    "import requests\n",
    "import time"
   ]
  },
  {
   "cell_type": "code",
   "execution_count": null,
   "metadata": {},
   "outputs": [],
   "source": [
    "load_dotenv()\n",
    "beakey = os.environ.get('API_KEY_BEA')"
   ]
  },
  {
   "cell_type": "code",
   "execution_count": null,
   "metadata": {},
   "outputs": [],
   "source": [
    "method = \"GetData\"\n",
    "data_set = \"Regional\"\n",
    "tablename='SAINC1'\n",
    "geo='STATE'\n",
    "lc='3'\n",
    "year='2022'\n",
    "params = f'TableName={tablename}&GeoFips={geo}&LineCode={lc}&Year={year}'\n"
   ]
  },
  {
   "cell_type": "code",
   "execution_count": null,
   "metadata": {},
   "outputs": [],
   "source": [
    "data = requests.get(\n",
    "        f'https://apps.bea.gov/api/data?&UserID={beakey}' +\n",
    "        f'&method={method}&datasetname={data_set}' +\n",
    "        f'&{params}&ResultFormat=JSON'\n",
    "    ).json()"
   ]
  },
  {
   "cell_type": "code",
   "execution_count": null,
   "metadata": {},
   "outputs": [],
   "source": [
    "df_data = pd.DataFrame(data[\"BEAAPI\"]['Results']['Data'])\n",
    "df_data = df_data.set_index('GeoName')\n",
    "df_data = df_data.sort_values('DataValue', ascending=False)\n",
    "df_data.head()"
   ]
  },
  {
   "cell_type": "code",
   "execution_count": null,
   "metadata": {},
   "outputs": [],
   "source": [
    "method = \"GetData\"\n",
    "data_set = \"Regional\"\n",
    "tablename='CAINC4'\n",
    "geo='COUNTY'\n",
    "lc='30'\n",
    "year='2022'\n",
    "\n",
    "params = f'TableName={tablename}&GeoFips={geo}&LineCode={lc}&Year={year}'"
   ]
  },
  {
   "cell_type": "code",
   "execution_count": null,
   "metadata": {},
   "outputs": [],
   "source": [
    "data_two = requests.get(\n",
    "        f'https://apps.bea.gov/api/data?&UserID={beakey}' +\n",
    "        f'&method={method}&datasetname={data_set}' +\n",
    "        f'&{params}&ResultFormat=JSON'\n",
    "    ).json()"
   ]
  },
  {
   "cell_type": "code",
   "execution_count": null,
   "metadata": {},
   "outputs": [],
   "source": [
    "df_data_two = pd.DataFrame(data_two[\"BEAAPI\"]['Results']['Data'])\n",
    "df_data_two.head()"
   ]
  },
  {
   "cell_type": "code",
   "execution_count": null,
   "metadata": {},
   "outputs": [],
   "source": [
    "county_df = df_data_two[['GeoName','DataValue','TimePeriod', 'GeoFips']]\n",
    "county_df.head()"
   ]
  },
  {
   "cell_type": "code",
   "execution_count": null,
   "metadata": {},
   "outputs": [],
   "source": [
    "method = \"GetData\"\n",
    "data_set = \"Regional\"\n",
    "tablename='CAINC4'\n",
    "geo='COUNTY'\n",
    "lc='30'\n",
    "year='2022'\n",
    "\n",
    "years = [year for year in range(2010,2023)]\n",
    "def call_api(year):\n",
    "    time.sleep(5)\n",
    "    print(year)\n",
    "    params = f'TableName={tablename}&GeoFips={geo}&LineCode={lc}&Year={year}'\n",
    "    result = requests.get(\n",
    "            f'https://apps.bea.gov/api/data?&UserID={beakey}' +\n",
    "            f'&method={method}&datasetname={data_set}' +\n",
    "            f'&{params}&ResultFormat=JSON'\n",
    "        ).json()\n",
    "    df = pd.DataFrame(result[\"BEAAPI\"]['Results']['Data'])\n",
    "    df = df.sort_values('DataValue', ascending=False)\n",
    "    df = df[['GeoName','DataValue','TimePeriod', 'GeoFips']]\n",
    "    # LEAVING GeoName as is so county and state can be changed outside here\n",
    "    df = df.rename(columns={'DataValue':'Income','TimePeriod':'Year'})\n",
    "    return df\n"
   ]
  },
  {
   "cell_type": "code",
   "execution_count": null,
   "metadata": {},
   "outputs": [],
   "source": [
    "results = [call_api(year) for year in years]\n"
   ]
  },
  {
   "cell_type": "code",
   "execution_count": null,
   "metadata": {},
   "outputs": [],
   "source": [
    "for result in results:\n",
    "    print(result.head(2))"
   ]
  },
  {
   "cell_type": "code",
   "execution_count": null,
   "metadata": {},
   "outputs": [],
   "source": [
    "county_merged_df = pd.concat(results, ignore_index=True)\n",
    "county_merged_df['Income'] = pd.to_numeric(county_merged_df['Income'])\n",
    "county_merged_df.head()\n"
   ]
  },
  {
   "cell_type": "code",
   "execution_count": null,
   "metadata": {},
   "outputs": [],
   "source": [
    "pivot_merged_df = county_merged_df.pivot(index=['GeoFips','GeoName'], columns='Year', values='Income')\n",
    "pivot_merged_df.head()"
   ]
  },
  {
   "cell_type": "code",
   "execution_count": null,
   "metadata": {},
   "outputs": [],
   "source": [
    "pct_change_df = pivot_merged_df.pct_change(axis='columns') * 100\n",
    "pct_change_df = pct_change_df.reset_index()\n",
    "pct_change_df.to_csv('./files/data/pct_change.csv', index=False)\n",
    "pct_change_df.head()\n"
   ]
  },
  {
   "cell_type": "code",
   "execution_count": null,
   "metadata": {},
   "outputs": [],
   "source": [
    "selected_years_10_22 = pivot_merged_df[['2010','2022']]\n",
    "change_10_22 = selected_years_10_22.pct_change(axis='columns')\n",
    "change_10_22.reset_index()\n",
    "change_10_22.to_csv('./files/data/selected_change_10_20.csv')\n",
    "change_10_22.head()\n"
   ]
  },
  {
   "cell_type": "code",
   "execution_count": null,
   "metadata": {},
   "outputs": [],
   "source": [
    "method = \"GetData\"\n",
    "data_set = \"Regional\"\n",
    "tablename='SAINC1'\n",
    "geo='STATE'\n",
    "lc='3'\n",
    "\n",
    "years = [year for year in range(2010,2023)]\n",
    "\n",
    "results_state = [call_api(year) for year in years]\n"
   ]
  },
  {
   "cell_type": "code",
   "execution_count": null,
   "metadata": {},
   "outputs": [],
   "source": [
    "state_merged_df = pd.concat(results_state, ignore_index=True)\n",
    "state_merged_df['Income'] = pd.to_numeric(state_merged_df['Income'])\n",
    "state_merged_df.head()\n",
    "pivot_state_merged_df = state_merged_df.pivot(index=['GeoFips','GeoName'], columns='Year', values='Income')\n",
    "pivot_state_merged_df.head()"
   ]
  },
  {
   "cell_type": "code",
   "execution_count": null,
   "metadata": {},
   "outputs": [],
   "source": [
    "state_selected_years_10_22 = pivot_state_merged_df[['2019','2022']]\n",
    "state_change_10_22 = state_selected_years_10_22.pct_change(axis='columns') * 100\n",
    "state_change_10_22 = state_change_10_22.reset_index()\n",
    "state_change_10_22_drop = state_change_10_22.drop(index=0)\n",
    "state_change_10_22_drop.to_csv('./files/data/state_selected_change_10_20.csv')\n",
    "state_change_10_22_drop.head()"
   ]
  }
 ],
 "metadata": {
  "kernelspec": {
   "display_name": "dev_con",
   "language": "python",
   "name": "python3"
  },
  "language_info": {
   "codemirror_mode": {
    "name": "ipython",
    "version": 3
   },
   "file_extension": ".py",
   "mimetype": "text/x-python",
   "name": "python",
   "nbconvert_exporter": "python",
   "pygments_lexer": "ipython3",
   "version": "3.10.11"
  }
 },
 "nbformat": 4,
 "nbformat_minor": 2
}
