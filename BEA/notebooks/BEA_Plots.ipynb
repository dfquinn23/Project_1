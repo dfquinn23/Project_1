{
 "cells": [
  {
   "cell_type": "code",
   "execution_count": null,
   "metadata": {},
   "outputs": [],
   "source": [
    "import geopandas as gpd\n",
    "import pandas as pd\n",
    "import matplotlib.pyplot as plt\n",
    "\n",
    "import hvplot.pandas\n",
    "import geoviews as gv\n",
    "from bokeh.io import output_notebook\n",
    "# Path to the downloaded shapefile\n",
    "# you can download 'shapefile_paths':\n",
    "# https://www.census.gov/cgi-bin/geo/shapefiles/index.php\n",
    "\n",
    "shapefile_path = './files/shapefiles/tl_2023_us_county.zip'\n",
    "\n",
    "# Read the shapefile into a GeoDataFrame\n",
    "gdf = gpd.read_file(shapefile_path)\n",
    "\n",
    "# Display the GeoDataFrame\n",
    "gdf.head()"
   ]
  },
  {
   "cell_type": "markdown",
   "metadata": {},
   "source": [
    "# COUNTY DOESN'T LOOK VERY CLEAN ON MAP - SEE STATE"
   ]
  },
  {
   "cell_type": "code",
   "execution_count": null,
   "metadata": {},
   "outputs": [],
   "source": [
    "pct_change = pd.read_csv('./files/data/selected_change_10_20.csv')\n",
    "pct_change['GeoFips'] = pd.to_numeric(pct_change['GeoFips'])\n",
    "gdf['GEOID'] = pd.to_numeric(gdf['GEOID'])\n",
    "merged = gdf.merge(pct_change, left_on='GEOID', right_on='GeoFips')\n",
    "merged.head(2)"
   ]
  },
  {
   "cell_type": "code",
   "execution_count": null,
   "metadata": {},
   "outputs": [],
   "source": [
    "fig, ax = plt.subplots(1, 1, figsize=(15, 10))\n",
    "merged.boundary.plot(ax=ax)\n",
    "merged.plot(column='2022', ax=ax, legend=True,\n",
    "            legend_kwds={'label': \"Percent Change in Income\",\n",
    "                         'orientation': \"horizontal\"})\n",
    "plt.title('Percent Change in Income by County')\n",
    "plt.savefig('./files/Maps/county_pct_change_20102022.png')\n",
    "plt.show()"
   ]
  },
  {
   "cell_type": "markdown",
   "metadata": {},
   "source": [
    "## By State"
   ]
  },
  {
   "cell_type": "code",
   "execution_count": null,
   "metadata": {},
   "outputs": [],
   "source": [
    "# STATE\n",
    "\n",
    "state_shapefile_path = './files/shapefiles/tl_2023_us_state.zip'\n",
    "\n",
    "# Read the shapefile into a GeoDataFrame\n",
    "state_gdf = gpd.read_file(state_shapefile_path)\n",
    "\n",
    "state_pct_change = pd.read_csv('./files/data/state_selected_change_10_20.csv')\n",
    "state_merged = state_gdf.merge(state_pct_change, left_on='NAME', right_on='GeoName')\n",
    "state_gdf.head()"
   ]
  },
  {
   "cell_type": "markdown",
   "metadata": {},
   "source": [
    "### Plotting By State"
   ]
  },
  {
   "cell_type": "code",
   "execution_count": null,
   "metadata": {},
   "outputs": [],
   "source": [
    "\n",
    "\n",
    "fig, ax = plt.subplots(1, 1, figsize=(15, 10))\n",
    "state_merged.boundary.plot(ax=ax)\n",
    "state_merged.plot(column='2022', ax=ax, legend=True,\n",
    "            legend_kwds={'label': \"Percent Change in Income\",\n",
    "                         'orientation': \"horizontal\"})\n",
    "plt.title('Percent Change in Income by State')\n",
    "plt.savefig('./files/Maps/state_pct_change_20192022.png')\n",
    "plt.show()"
   ]
  },
  {
   "cell_type": "code",
   "execution_count": null,
   "metadata": {},
   "outputs": [],
   "source": [
    "output_notebook()\n",
    "gv.extension('bokeh')\n",
    "\n",
    "shapefile_path = './files/shapefiles/tl_2023_us_county.zip'\n",
    "\n",
    "\n",
    "\n",
    "# Read the shapefile into a GeoDataFrame\n",
    "gdf = gpd.read_file(shapefile_path)\n",
    "\n",
    "pct_change = pd.read_csv('./files/data/selected_change_10_20.csv')\n",
    "pct_change['GeoFips'] = pd.to_numeric(pct_change['GeoFips'])\n",
    "gdf['GEOID'] = pd.to_numeric(gdf['GEOID'])\n",
    "\n",
    "merged = gdf.merge(pct_change, left_on='GEOID', right_on='GeoFips')\n",
    "\n",
    "\n",
    "heatmap = merged.hvplot.polygons(\n",
    "    geo=True,\n",
    "    tiles='CartoLight',\n",
    "    color='percent_increase',\n",
    "    hover_cols=['NAME', 'percent_increase'],\n",
    "    line_color='black',\n",
    "    line_width=0.1,\n",
    "    title='Percentage Increase in Income by County'\n",
    ")\n",
    "\n",
    "# Show the plot\n",
    "# hvplot.show(heatmap)\n",
    "\n",
    "# Show the plot inline\n",
    "heatmap"
   ]
  }
 ],
 "metadata": {
  "kernelspec": {
   "display_name": ".venv",
   "language": "python",
   "name": "python3"
  },
  "language_info": {
   "codemirror_mode": {
    "name": "ipython",
    "version": 3
   },
   "file_extension": ".py",
   "mimetype": "text/x-python",
   "name": "python",
   "nbconvert_exporter": "python",
   "pygments_lexer": "ipython3",
   "version": "3.10.11"
  }
 },
 "nbformat": 4,
 "nbformat_minor": 2
}
