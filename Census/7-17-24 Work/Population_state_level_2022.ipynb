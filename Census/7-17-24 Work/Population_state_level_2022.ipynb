{
 "cells": [
  {
   "cell_type": "code",
   "execution_count": 16,
   "metadata": {},
   "outputs": [],
   "source": [
    "import json\n",
    "import pandas as pd\n",
    "import os\n",
    "import numpy as np\n",
    "import requests\n",
    "from dotenv import load_dotenv\n",
    "import pathlib as path"
   ]
  },
  {
   "cell_type": "code",
   "execution_count": 17,
   "metadata": {},
   "outputs": [],
   "source": [
    "load_dotenv()\n",
    "api_key = os.getenv(\"CENSUS_API_KEY\")"
   ]
  },
  {
   "cell_type": "code",
   "execution_count": 18,
   "metadata": {},
   "outputs": [],
   "source": [
    "#All Census api requests start with https://api.census.gov/data\n",
    "#Then it's the dataset (one of over 1,200), ex: 2018/pep/charagegroups\n",
    "# Then \"?get=\" followed by the list of variables and geographies we want data for, ex:\n",
    "#POP,GEONAME, DATE_DESC&DATE_CODE=11&RACE=10\n",
    "#Then, set the geography/ Foe ex: \"&for=county:*&in=state:24\" The * means all available values\n",
    "\n",
    "#https://api.census.gov/data/2018/pep/charagegroups?get=POP,GEONAME,DATE_DESC&DATE_CODE=\n",
    "#11&RACE=10&for=county:*&in=state:24"
   ]
  },
  {
   "cell_type": "code",
   "execution_count": 19,
   "metadata": {},
   "outputs": [],
   "source": [
    "# National & State population totals as of 7/1/23"
   ]
  },
  {
   "cell_type": "markdown",
   "metadata": {},
   "source": []
  },
  {
   "cell_type": "code",
   "execution_count": 32,
   "metadata": {},
   "outputs": [
    {
     "data": {
      "text/html": [
       "<div>\n",
       "<style scoped>\n",
       "    .dataframe tbody tr th:only-of-type {\n",
       "        vertical-align: middle;\n",
       "    }\n",
       "\n",
       "    .dataframe tbody tr th {\n",
       "        vertical-align: top;\n",
       "    }\n",
       "\n",
       "    .dataframe thead th {\n",
       "        text-align: right;\n",
       "    }\n",
       "</style>\n",
       "<table border=\"1\" class=\"dataframe\">\n",
       "  <thead>\n",
       "    <tr style=\"text-align: right;\">\n",
       "      <th></th>\n",
       "      <th>Geographic Area</th>\n",
       "      <th>Total Resident Population</th>\n",
       "      <th>Resident Population &gt;=Age 18</th>\n",
       "      <th>% of Total</th>\n",
       "    </tr>\n",
       "  </thead>\n",
       "  <tbody>\n",
       "    <tr>\n",
       "      <th>52</th>\n",
       "      <td>.Washington</td>\n",
       "      <td>7,812,880</td>\n",
       "      <td>6,164,810</td>\n",
       "      <td>78.9</td>\n",
       "    </tr>\n",
       "    <tr>\n",
       "      <th>53</th>\n",
       "      <td>.West Virginia</td>\n",
       "      <td>1,770,071</td>\n",
       "      <td>1,417,859</td>\n",
       "      <td>80.1</td>\n",
       "    </tr>\n",
       "    <tr>\n",
       "      <th>54</th>\n",
       "      <td>.Wisconsin</td>\n",
       "      <td>5,910,955</td>\n",
       "      <td>4,661,826</td>\n",
       "      <td>78.9</td>\n",
       "    </tr>\n",
       "    <tr>\n",
       "      <th>55</th>\n",
       "      <td>.Wyoming</td>\n",
       "      <td>584,057</td>\n",
       "      <td>454,508</td>\n",
       "      <td>77.8</td>\n",
       "    </tr>\n",
       "    <tr>\n",
       "      <th>56</th>\n",
       "      <td>Puerto Rico</td>\n",
       "      <td>3,205,691</td>\n",
       "      <td>2,707,012</td>\n",
       "      <td>84.4</td>\n",
       "    </tr>\n",
       "  </tbody>\n",
       "</table>\n",
       "</div>"
      ],
      "text/plain": [
       "   Geographic Area Total Resident Population Resident Population >=Age 18  \\\n",
       "52     .Washington                 7,812,880                    6,164,810   \n",
       "53  .West Virginia                 1,770,071                    1,417,859   \n",
       "54      .Wisconsin                 5,910,955                    4,661,826   \n",
       "55        .Wyoming                   584,057                      454,508   \n",
       "56     Puerto Rico                 3,205,691                    2,707,012   \n",
       "\n",
       "    % of Total  \n",
       "52        78.9  \n",
       "53        80.1  \n",
       "54        78.9  \n",
       "55        77.8  \n",
       "56        84.4  "
      ]
     },
     "execution_count": 32,
     "metadata": {},
     "output_type": "execute_result"
    }
   ],
   "source": [
    "# Relative path to the CSV file\n",
    "csv_file_path = './Census/State_Population_Estimates_2023.csv'\n",
    "\n",
    "# Read the CSV file into a DataFrame\n",
    "raw_df = pd.read_csv('C:/users/Daniel Quinn/Desktop/Bootcamp/Project_1_Working_Copy/Census/State_Population_Estimates_2023.csv')\n",
    "\n",
    "# Display the first few rows of the DataFrame\n",
    "raw_df = pd.DataFrame(raw_df)\n",
    "reindex_df = raw_df.dropna()\n",
    "reindex_df = reindex_df.reset_index(drop=True)\n",
    "\n",
    "reindex_df = reindex_df.rename(columns={\"Resident Population Age 18 Years and Older\": \"Resident Population >=Age 18\", \"Unnamed: 3\": \"% of Total\"})\n",
    "\n",
    "reindex_df.tail()\n"
   ]
  },
  {
   "cell_type": "code",
   "execution_count": 33,
   "metadata": {},
   "outputs": [
    {
     "data": {
      "text/html": [
       "<div>\n",
       "<style scoped>\n",
       "    .dataframe tbody tr th:only-of-type {\n",
       "        vertical-align: middle;\n",
       "    }\n",
       "\n",
       "    .dataframe tbody tr th {\n",
       "        vertical-align: top;\n",
       "    }\n",
       "\n",
       "    .dataframe thead th {\n",
       "        text-align: right;\n",
       "    }\n",
       "</style>\n",
       "<table border=\"1\" class=\"dataframe\">\n",
       "  <thead>\n",
       "    <tr style=\"text-align: right;\">\n",
       "      <th></th>\n",
       "      <th>Geographic Area</th>\n",
       "      <th>Total Resident Population</th>\n",
       "      <th>Resident Population &gt;=Age 18</th>\n",
       "      <th>% of Total</th>\n",
       "    </tr>\n",
       "  </thead>\n",
       "  <tbody>\n",
       "    <tr>\n",
       "      <th>0</th>\n",
       "      <td>United States</td>\n",
       "      <td>334914895</td>\n",
       "      <td>262083034</td>\n",
       "      <td>78.3</td>\n",
       "    </tr>\n",
       "    <tr>\n",
       "      <th>1</th>\n",
       "      <td>Northeast</td>\n",
       "      <td>56983517</td>\n",
       "      <td>45499951</td>\n",
       "      <td>79.8</td>\n",
       "    </tr>\n",
       "    <tr>\n",
       "      <th>2</th>\n",
       "      <td>Midwest</td>\n",
       "      <td>68909283</td>\n",
       "      <td>53689720</td>\n",
       "      <td>77.9</td>\n",
       "    </tr>\n",
       "    <tr>\n",
       "      <th>3</th>\n",
       "      <td>South</td>\n",
       "      <td>130125290</td>\n",
       "      <td>101091962</td>\n",
       "      <td>77.7</td>\n",
       "    </tr>\n",
       "    <tr>\n",
       "      <th>4</th>\n",
       "      <td>West</td>\n",
       "      <td>78896805</td>\n",
       "      <td>61801401</td>\n",
       "      <td>78.3</td>\n",
       "    </tr>\n",
       "  </tbody>\n",
       "</table>\n",
       "</div>"
      ],
      "text/plain": [
       "  Geographic Area Total Resident Population Resident Population >=Age 18  \\\n",
       "0   United States                 334914895                    262083034   \n",
       "1       Northeast                  56983517                     45499951   \n",
       "2         Midwest                  68909283                     53689720   \n",
       "3           South                 130125290                    101091962   \n",
       "4            West                  78896805                     61801401   \n",
       "\n",
       "   % of Total  \n",
       "0        78.3  \n",
       "1        79.8  \n",
       "2        77.9  \n",
       "3        77.7  \n",
       "4        78.3  "
      ]
     },
     "execution_count": 33,
     "metadata": {},
     "output_type": "execute_result"
    }
   ],
   "source": [
    "#removed the commas from these cols to enable conversion to int\n",
    "\n",
    "reindex_df[\"Total Resident Population\"] = reindex_df[\n",
    "    \"Total Resident Population\"].str.replace(',' , '')\n",
    "\n",
    "reindex_df[\"Resident Population >=Age 18\"] = reindex_df[\n",
    "    \"Resident Population >=Age 18\"].str.replace(',' , '')\n",
    "\n",
    "#removed the period from in front of each state name\n",
    "\n",
    "reindex_df[\"Geographic Area\"] = reindex_df[\n",
    "    \"Geographic Area\"].str.replace('.' , '')\n",
    "\n",
    "reindex_df.head()"
   ]
  },
  {
   "cell_type": "code",
   "execution_count": 22,
   "metadata": {},
   "outputs": [
    {
     "data": {
      "text/plain": [
       "Geographic Area                  object\n",
       "Total Resident Population         int32\n",
       "Resident Population >=Age 18      int32\n",
       "% of Total                      float64\n",
       "dtype: object"
      ]
     },
     "execution_count": 22,
     "metadata": {},
     "output_type": "execute_result"
    }
   ],
   "source": [
    "reindex_df[\"Total Resident Population\"] = reindex_df[\n",
    "    \"Total Resident Population\"].astype(int)\n",
    "\n",
    "reindex_df[\"Resident Population >=Age 18\"] = reindex_df[\n",
    "    \"Resident Population >=Age 18\"].astype(int)\n",
    "\n",
    "reindex_df.dtypes"
   ]
  }
 ],
 "metadata": {
  "kernelspec": {
   "display_name": "dev",
   "language": "python",
   "name": "python3"
  },
  "language_info": {
   "codemirror_mode": {
    "name": "ipython",
    "version": 3
   },
   "file_extension": ".py",
   "mimetype": "text/x-python",
   "name": "python",
   "nbconvert_exporter": "python",
   "pygments_lexer": "ipython3",
   "version": "3.10.14"
  }
 },
 "nbformat": 4,
 "nbformat_minor": 2
}
