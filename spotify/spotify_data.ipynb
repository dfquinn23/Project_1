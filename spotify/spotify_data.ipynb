{
 "cells": [
  {
   "cell_type": "code",
   "execution_count": 71,
   "metadata": {},
   "outputs": [],
   "source": [
    "import os\n",
    "import pandas as pd\n",
    "import numpy as np\n",
    "from datetime import datetime\n",
    "import spotipy\n",
    "from spotipy.oauth2 import SpotifyClientCredentials\n",
    "import matplotlib.pyplot as plt\n",
    "import seaborn as sns\n",
    "from collections import Counter\n",
    "import time\n",
    "import pickle\n",
    "import json\n",
    "\n",
    "\n"
   ]
  },
  {
   "cell_type": "code",
   "execution_count": 72,
   "metadata": {},
   "outputs": [],
   "source": [
    "# Fetch credentials from environment variables\n",
    "# SPOTIPY_CLIENT_ID = os.getenv('SPOTIPY_CLIENT_ID')\n",
    "# SPOTIPY_CLIENT_SECRET = os.getenv('SPOTIPY_CLIENT_SECRET')\n",
    "\n",
    "SPOTIPY_CLIENT_ID =\n",
    "SPOTIPY_CLIENT_SECRET ="
   ]
  },
  {
   "cell_type": "code",
   "execution_count": 73,
   "metadata": {},
   "outputs": [],
   "source": [
    "# Spotify API setup\n",
    "client_credentials_manager = SpotifyClientCredentials(client_id=SPOTIPY_CLIENT_ID, client_secret=SPOTIPY_CLIENT_SECRET)\n",
    "sp = Spotify(client_credentials_manager=client_credentials_manager)\n"
   ]
  },
  {
   "cell_type": "code",
   "execution_count": 74,
   "metadata": {},
   "outputs": [],
   "source": [
    "\n",
    "def get_top_tracks_for_state(state, limit=50):\n",
    "    results = sp.search(q=f'track genre:{state}', type='track', limit=limit)\n",
    "    return results['tracks']['items']\n",
    "\n",
    "def get_artist_genres(artist_id):\n",
    "    try:\n",
    "        artist = sp.artist(artist_id)\n",
    "        return artist['genres']\n",
    "    except:\n",
    "        return []\n",
    "\n",
    "def get_genres_for_timeframe(state, start_date, end_date):\n",
    "    tracks = get_top_tracks_for_state(state)\n",
    "    all_genres = []\n",
    "    for track in tracks:\n",
    "        try:\n",
    "            release_date = track['album']['release_date']\n",
    "            if len(release_date) == 4:  # Only year is provided\n",
    "                release_date = datetime.strptime(release_date, '%Y')\n",
    "            elif len(release_date) == 7:  # Year and month are provided\n",
    "                release_date = datetime.strptime(release_date, '%Y-%m')\n",
    "            else:  # Full date is provided\n",
    "                release_date = datetime.strptime(release_date, '%Y-%m-%d')\n",
    "            \n",
    "            # Ensure release_date is naive\n",
    "            release_date = release_date.replace(tzinfo=None)\n",
    "            \n",
    "            if start_date <= release_date <= end_date:\n",
    "                artist_id = track['artists'][0]['id']\n",
    "                genres = get_artist_genres(artist_id)\n",
    "                all_genres.extend(genres)\n",
    "        except (ValueError, KeyError):\n",
    "            continue  # Skip this track if we can't parse the date or if the key doesn't exist\n",
    "    return all_genres\n",
    "\n",
    "def rank_genres_for_states(fema_data):\n",
    "    genre_rankings = {}\n",
    "    for state in fema_data['state'].unique():\n",
    "        state_data = fema_data[fema_data['state'] == state]\n",
    "        start_date = state_data['incidentBeginDate'].min().replace(tzinfo=None)\n",
    "        end_date = state_data['incidentEndDate'].max().replace(tzinfo=None)\n",
    "        \n",
    "        print(f\"Fetching data for {state} from {start_date} to {end_date}\")\n",
    "        genres = get_genres_for_timeframe(state, start_date, end_date)\n",
    "        genre_count = Counter(genres)\n",
    "        \n",
    "        genre_rankings[state] = genre_count\n",
    "        \n",
    "        time.sleep(1)  # To avoid hitting API rate limits\n",
    "    \n",
    "    return genre_rankings"
   ]
  },
  {
   "cell_type": "code",
   "execution_count": 75,
   "metadata": {},
   "outputs": [],
   "source": [
    "# Load FEMA data\n",
    "fema_data = pd.read_csv('../Weather/fema_disaster_declarations_processed.csv')"
   ]
  },
  {
   "cell_type": "code",
   "execution_count": 76,
   "metadata": {},
   "outputs": [],
   "source": [
    "# Ensure date columns are datetime\n",
    "date_columns = ['declarationDate', 'incidentBeginDate', 'incidentEndDate']\n",
    "for col in date_columns:\n",
    "    fema_data[col] = pd.to_datetime(fema_data[col])"
   ]
  },
  {
   "cell_type": "code",
   "execution_count": 77,
   "metadata": {},
   "outputs": [
    {
     "name": "stdout",
     "output_type": "stream",
     "text": [
      "Ranking genres for states...\n",
      "Fetching data for NH from 2011-08-26 00:00:00 to 2022-12-25 00:00:00\n",
      "Fetching data for RI from 2023-04-14 00:00:00 to 2023-04-16 00:00:00\n",
      "Fetching data for KS from 2016-03-23 00:00:00 to 2023-04-16 00:00:00\n",
      "Fetching data for CO from 2013-06-11 00:00:00 to 2023-06-23 00:00:00\n",
      "Fetching data for GA from 2016-11-13 00:00:00 to 2023-08-30 00:00:00\n",
      "Fetching data for TX from 2014-05-11 00:00:00 to 2023-02-02 00:00:00\n",
      "Fetching data for OR from 2013-07-19 00:00:00 to 2021-08-31 00:00:00\n",
      "Fetching data for FL from 2017-04-20 00:00:00 to 2023-04-14 00:00:00\n",
      "Fetching data for CA from 2012-08-12 00:00:00 to 2023-02-26 00:00:00\n",
      "Fetching data for SD from 2012-08-31 00:00:00 to 2022-12-25 00:00:00\n",
      "Fetching data for WA from 2012-08-13 00:00:00 to 2022-11-08 00:00:00\n",
      "Fetching data for UT from 2013-08-13 00:00:00 to 2021-08-18 00:00:00\n",
      "Fetching data for ID from 2012-08-15 00:00:00 to 2021-08-17 00:00:00\n",
      "Fetching data for HI from 2018-08-22 00:00:00 to 2021-08-03 00:00:00\n",
      "Fetching data for MT from 2012-08-28 00:00:00 to 2023-06-08 00:00:00\n",
      "Fetching data for NM from 2013-05-30 00:00:00 to 2019-06-19 00:00:00\n",
      "Fetching data for NV from 2013-07-04 00:00:00 to 2023-03-19 00:00:00\n",
      "Fetching data for WY from 2012-09-09 00:00:00 to 2020-10-19 00:00:00\n",
      "Fetching data for AZ from 2013-06-18 00:00:00 to 2023-01-17 00:00:00\n",
      "Fetching data for OK from 2012-08-03 00:00:00 to 2023-04-20 00:00:00\n",
      "Fetching data for AK from 2015-06-15 00:00:00 to 2019-09-13 00:00:00\n",
      "Fetching data for VT from 2013-05-22 00:00:00 to 2023-08-05 00:00:00\n",
      "Fetching data for NC from 2016-11-11 00:00:00 to 2016-11-29 00:00:00\n",
      "Fetching data for TN from 2016-11-05 00:00:00 to 2023-04-01 00:00:00\n",
      "Fetching data for KY from 2016-11-08 00:00:00 to 2023-03-04 00:00:00\n",
      "Fetching data for IL from 2023-06-29 00:00:00 to 2023-07-02 00:00:00\n",
      "Fetching data for NE from 2012-08-30 00:00:00 to 2012-09-10 00:00:00\n",
      "Fetching data for AL from 2023-01-12 00:00:00 to 2023-03-27 00:00:00\n",
      "Fetching data for IN from 2023-03-31 00:00:00 to 2023-04-01 00:00:00\n",
      "Fetching data for AR from 2023-01-30 00:00:00 to 2023-03-31 00:00:00\n",
      "Fetching data for MS from 2023-03-24 00:00:00 to 2023-03-25 00:00:00\n",
      "Fetching data for ME from 2022-12-23 00:00:00 to 2022-12-24 00:00:00\n",
      "Fetching data for NY from 2022-12-23 00:00:00 to 2022-12-28 00:00:00\n",
      "Fetching data for ND from 2022-11-09 00:00:00 to 2022-11-11 00:00:00\n",
      "Fetching data for WV from 2022-07-12 00:00:00 to 2022-08-15 00:00:00\n",
      "Fetching data for SC from 2022-09-25 00:00:00 to 2022-10-04 00:00:00\n"
     ]
    }
   ],
   "source": [
    "# Get genre rankings\n",
    "print(\"Ranking genres for states...\")\n",
    "genre_rankings = rank_genres_for_states(fema_data)"
   ]
  },
  {
   "cell_type": "code",
   "execution_count": 84,
   "metadata": {},
   "outputs": [
    {
     "data": {
      "text/plain": [
       "CO    62\n",
       "FL    34\n",
       "CA    34\n",
       "HI    29\n",
       "ID    24\n",
       "WA    21\n",
       "AZ    19\n",
       "GA    19\n",
       "OR    13\n",
       "OK    13\n",
       "dtype: int64"
      ]
     },
     "execution_count": 84,
     "metadata": {},
     "output_type": "execute_result"
    }
   ],
   "source": [
    "state_genres = pd.DataFrame(genre_rankings)\n",
    "state_genres.count().sort_values(ascending=False).head(10)"
   ]
  },
  {
   "cell_type": "code",
   "execution_count": 87,
   "metadata": {},
   "outputs": [
    {
     "name": "stdout",
     "output_type": "stream",
     "text": [
      "Genre rankings saved successfully to 'state_genre_rankings.pkl'\n",
      "Genre rankings saved successfully to 'state_genre_rankings.json'\n"
     ]
    }
   ],
   "source": [
    "# Save genre_rankings using pickle\n",
    "with open('state_genre_rankings.pkl', 'wb') as f:\n",
    "    pickle.dump(genre_rankings, f)\n",
    "print(\"Genre rankings saved successfully to 'state_genre_rankings.pkl'\")\n",
    "\n",
    "# Save genre_rankings as JSON\n",
    "with open('state_genre_rankings.json', 'w') as f:\n",
    "    json.dump({k: dict(v) for k, v in genre_rankings.items()}, f)\n",
    "print(\"Genre rankings saved successfully to 'state_genre_rankings.json'\")\n"
   ]
  },
  {
   "cell_type": "code",
   "execution_count": 89,
   "metadata": {},
   "outputs": [
    {
     "name": "stdout",
     "output_type": "stream",
     "text": [
      "Top 20 Genres Overall:\n",
      "wyoming indie: 35\n",
      "wyoming roots: 35\n",
      "azontobeats: 29\n",
      "pop: 23\n",
      "canadian pop: 19\n",
      "orchestral soundtrack: 15\n",
      "coupe-decale: 15\n",
      "canadian contemporary r&b: 14\n",
      "soundtrack: 14\n",
      "musique urbaine kinshasa: 14\n",
      "ndombolo: 14\n",
      "r&b francais: 14\n",
      "rumba congolaise: 14\n",
      "trap: 13\n",
      "rap: 12\n",
      "hip hop: 10\n",
      "florida rap: 10\n",
      "cali rap: 10\n",
      "pop rap: 9\n",
      "florida drill: 8\n",
      "Analysis complete. Results saved to CSV and plots generated.\n"
     ]
    }
   ],
   "source": [
    "# Overall genre ranking\n",
    "all_genres = Counter()\n",
    "for genres in genre_rankings.values():\n",
    "    all_genres += genres\n",
    "\n",
    "print(\"Top 20 Genres Overall:\")\n",
    "for genre, count in all_genres.most_common(20):\n",
    "    print(f\"{genre}: {count}\")\n",
    "\n",
    "# Save results to CSV\n",
    "results_df = pd.DataFrame([(county, genre, count) \n",
    "                           for county, genres in genre_rankings.items() \n",
    "                           for genre, count in genres.items()],\n",
    "                          columns=['County', 'Genre', 'Count'])\n",
    "# results_df.to_csv('county_genre_rankings.csv', index=False)\n",
    "\n",
    "print(\"Analysis complete. Results saved to CSV and plots generated.\")"
   ]
  },
  {
   "cell_type": "code",
   "execution_count": null,
   "metadata": {},
   "outputs": [],
   "source": []
  }
 ],
 "metadata": {
  "kernelspec": {
   "display_name": "dev",
   "language": "python",
   "name": "python3"
  },
  "language_info": {
   "codemirror_mode": {
    "name": "ipython",
    "version": 3
   },
   "file_extension": ".py",
   "mimetype": "text/x-python",
   "name": "python",
   "nbconvert_exporter": "python",
   "pygments_lexer": "ipython3",
   "version": "3.10.14"
  }
 },
 "nbformat": 4,
 "nbformat_minor": 2
}
